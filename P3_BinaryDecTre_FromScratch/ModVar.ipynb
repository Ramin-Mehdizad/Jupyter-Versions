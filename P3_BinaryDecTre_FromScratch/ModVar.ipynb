{
 "cells": [
  {
   "cell_type": "code",
   "execution_count": null,
   "metadata": {},
   "outputs": [],
   "source": [
    "#===============================================================================\n",
    "# Created on Feb 20, 2020\n",
    "#\n",
    "# @author: Ramin Mehdizad Tekiyeh\n",
    "#\n",
    "# This code is written in Python 3.7.4 , Spyder 3.3.6\n",
    "#==============================================================================="
   ]
  },
  {
   "cell_type": "code",
   "execution_count": null,
   "metadata": {},
   "outputs": [],
   "source": [
    "#==============================================================================\n",
    "# argparse vars\n",
    "#==============================================================================\n",
    "str_input=''\n",
    "args=''\n",
    "MainDir=''\n",
    "args=''\n",
    "sysinfo=[]"
   ]
  },
  {
   "cell_type": "code",
   "execution_count": null,
   "metadata": {},
   "outputs": [],
   "source": [
    "#==============================================================================\n",
    "# parameters used in pretty printing the tree\n",
    "#==============================================================================\n",
    "ind_len=8\n",
    "indic_len=5\n",
    "indent='|' + ind_len * ' '\n",
    "indic='+' + indic_len * '='"
   ]
  },
  {
   "cell_type": "code",
   "execution_count": null,
   "metadata": {},
   "outputs": [],
   "source": [
    "#==============================================================================\n",
    "# data sets\n",
    "#==============================================================================\n",
    "y_train=[]\n",
    "X_train=[]\n",
    "y_test=[]\n",
    "X_test=[]"
   ]
  },
  {
   "cell_type": "code",
   "execution_count": null,
   "metadata": {},
   "outputs": [],
   "source": [
    "#==============================================================================\n",
    "# flags\n",
    "#==============================================================================\n",
    "# graphviz_import_ID should be 1 because when importing miodules the whole \n",
    "# imports are done, so we should do the imports when the modules are imported\n",
    "graphviz_import_ID=1   \n",
    "FlagSavePlot=False\n",
    "PrintCalcDetails=False\n",
    "FlagPrintSplitData=False\n",
    "logFlag=1"
   ]
  },
  {
   "cell_type": "code",
   "execution_count": null,
   "metadata": {},
   "outputs": [],
   "source": [
    "#==============================================================================\n",
    "# other variables\n",
    "#==============================================================================\n",
    "attr_val_pair_list=[]\n",
    "\n",
    "trn_name=[]\n",
    "tst_name=[]\n",
    "\n",
    "Acc_train_list=list()\n",
    "Acc_test_list=list()\n",
    "\n",
    "MaxDepth=0"
   ]
  }
 ],
 "metadata": {
  "kernelspec": {
   "display_name": "Python 3",
   "language": "python",
   "name": "python3"
  },
  "language_info": {
   "codemirror_mode": {
    "name": "ipython",
    "version": 3
   },
   "file_extension": ".py",
   "mimetype": "text/x-python",
   "name": "python",
   "nbconvert_exporter": "python",
   "pygments_lexer": "ipython3",
   "version": "3.7.4"
  }
 },
 "nbformat": 4,
 "nbformat_minor": 2
}
