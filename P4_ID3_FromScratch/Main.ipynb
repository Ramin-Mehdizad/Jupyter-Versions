{
 "cells": [
  {
   "cell_type": "code",
   "execution_count": null,
   "metadata": {},
   "outputs": [],
   "source": [
    "#===============================================================================\n",
    "# Created on Feb 25, 2020\n",
    "#\n",
    "# @author: Ramin Mehdizad Tekiyeh\n",
    "#\n",
    "# This code is written in Python 3.7.4 , Spyder 3.3.6\n",
    "#==============================================================================="
   ]
  },
  {
   "cell_type": "code",
   "execution_count": null,
   "metadata": {},
   "outputs": [],
   "source": [
    "#==============================================================================\n",
    "# deleting variables before starting main code\n",
    "#==============================================================================\n",
    "try:\n",
    "    from IPython import get_ipython\n",
    "    get_ipython().magic('reset -sf')\n",
    "except:\n",
    "    print('Couldn\"t erase variables from catche')\n"
   ]
  },
  {
   "cell_type": "code",
   "execution_count": null,
   "metadata": {},
   "outputs": [],
   "source": [
    "#==============================================================================\n",
    "# imports\n",
    "#==============================================================================\n",
    "import pandas as pd\n",
    "import numpy as np\n",
    "import os\n",
    "import graphviz\n",
    "from sklearn.tree import DecisionTreeClassifier\n",
    "from sklearn.tree import export_text\n",
    "from sklearn import tree\n",
    "import matplotlib.pyplot as plt\n",
    "import argparse\n",
    "\n",
    "try:\n",
    "    import graphviz\n",
    "    print(\"!!! Graphviz imported successfully !!!\")\n",
    "except:\n",
    "    print(\"!!! Graphviz couldn't be imported !!!\")\n",
    "    Var.graphviz_import_ID=0"
   ]
  },
  {
   "cell_type": "code",
   "execution_count": null,
   "metadata": {},
   "outputs": [],
   "source": [
    "#==============================================================================\n",
    "# importing module codes\n",
    "#==============================================================================\n",
    "import ModFunc as Func\n",
    "import ModVar as Var"
   ]
  },
  {
   "cell_type": "code",
   "execution_count": null,
   "metadata": {},
   "outputs": [],
   "source": [
    "#==============================================================================\n",
    "# main program\n",
    "#==============================================================================\n",
    "if __name__ == '__main__':\n",
    "    \n",
    "    # set parameters\n",
    "    Var.MaxDepth=5\n",
    "    depth=0\n",
    "    node_counter=0\n",
    "    dot_string=''\n",
    "    \n",
    "    # script path\n",
    "    Var.MainDir=os.path.abspath(__file__)\n",
    "    Var.MainDir=Var.MainDir[0:len(Var.MainDir)-len('Main.py')]\n",
    "    print('MainDir  is:  ', Var.MainDir)\n",
    "\n",
    "    # call input data from user by means of parsing\n",
    "    Func.Call_Parsed_Input()\n",
    "\n",
    "    \n",
    "    # read data and create dataframe\n",
    "    df=Func.Read_Data()\n",
    "\n",
    "    # one hot encode data\n",
    "    (Var.X_trn,Var.y_trn)=Func.encod(df)\n",
    "    print('X_trn   is:  \\n',Var.X_trn,end='\\n\\n')\n",
    "    print('y_trn   is:  \\n',Var.y_trn,end='\\n\\n')\n",
    "    \n",
    "    # extract attribute list\n",
    "    print('X_trn.shape[1]', Var.X_trn.shape[1])\n",
    "    Var.attrs_list=np.arange(0,Var.X_trn.shape[1])\n",
    "    print('attrs_list   is:  ',Var.attrs_list)\n",
    "\n",
    "    # run decision tree classifier\n",
    "    Trained_Tree = Func.id3(Var.X_trn, Var.y_trn, depth, max_depth=Var.MaxDepth)\n",
    "\n",
    "    print('Trained_Tree   is:  \\n\\n', Trained_Tree)\n",
    "\n",
    "    # print tree to console\n",
    "    Func.Print_Tree_to_Console(Trained_Tree)\n",
    "    \n",
    "    # create dot_string to be used for graphviz\n",
    "    dot_string, _, _ = Func.Create_dot_str(Trained_Tree, dot_string,  node_counter, depth)\n",
    "    \n",
    "    # tree graph is saved to a png file\n",
    "    Func.render_dot_file(dot_string, 'Created_Tree')"
   ]
  }
 ],
 "metadata": {
  "kernelspec": {
   "display_name": "Python 3",
   "language": "python",
   "name": "python3"
  },
  "language_info": {
   "codemirror_mode": {
    "name": "ipython",
    "version": 3
   },
   "file_extension": ".py",
   "mimetype": "text/x-python",
   "name": "python",
   "nbconvert_exporter": "python",
   "pygments_lexer": "ipython3",
   "version": "3.7.4"
  }
 },
 "nbformat": 4,
 "nbformat_minor": 2
}
