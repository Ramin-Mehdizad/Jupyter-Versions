{
 "cells": [
  {
   "cell_type": "code",
   "execution_count": null,
   "metadata": {},
   "outputs": [],
   "source": [
    "#===============================================================================\n",
    "# Created on Feb 30, 2020\n",
    "#\n",
    "# @author: Ramin Mehdizad Tekiyeh\n",
    "#\n",
    "# This code is written in Python 3.7.4 , Spyder 3.3.6\n",
    "#==============================================================================="
   ]
  },
  {
   "cell_type": "code",
   "execution_count": null,
   "metadata": {},
   "outputs": [],
   "source": [
    "# work dir\n",
    "MainDir=''"
   ]
  },
  {
   "cell_type": "code",
   "execution_count": null,
   "metadata": {},
   "outputs": [],
   "source": [
    "# variables used for argparse\n",
    "str_input=''\n",
    "args=''"
   ]
  },
  {
   "cell_type": "code",
   "execution_count": null,
   "metadata": {},
   "outputs": [],
   "source": [
    "# getting system information\n",
    "sysinfo=[]"
   ]
  },
  {
   "cell_type": "code",
   "execution_count": null,
   "metadata": {},
   "outputs": [],
   "source": [
    "# initializing the size of pictures that will be used as input of UNet model\n",
    "Height, Width, Channels=0,0,0\n",
    "input_size=0"
   ]
  },
  {
   "cell_type": "code",
   "execution_count": null,
   "metadata": {},
   "outputs": [],
   "source": [
    "#initializing train and test data path\n",
    "Train_Image_Path=[]\n",
    "Train_Mask_Path=[]\n",
    "Test_Image_Path=[]\n",
    "Test_Mask_Path=[]"
   ]
  },
  {
   "cell_type": "code",
   "execution_count": null,
   "metadata": {},
   "outputs": [],
   "source": [
    "# initializing the lists that containrain and test pictures addresses\n",
    "Train_Mask_List=[]\n",
    "Test_Mask_List=[]\n",
    "\n",
    "Train_Images=[]\n",
    "Train_Masks=[]\n",
    "NotResized_Image=[]\n",
    "NotResized_Mask=[]\n",
    "Test_Images=[]\n",
    "Test_Masks=[]\n",
    "\n",
    "preds_train=[]\n",
    "preds_train_t=[]\n",
    "preds_test=[] \n",
    "preds_test_t=[]"
   ]
  },
  {
   "cell_type": "code",
   "execution_count": null,
   "metadata": {},
   "outputs": [],
   "source": [
    "# initializing predicted mask pictures in each epoch\n",
    "Each_Epoch_Predicted_Images=[]"
   ]
  },
  {
   "cell_type": "code",
   "execution_count": null,
   "metadata": {},
   "outputs": [],
   "source": [
    "# initializing UNet model that we will create\n",
    "model=[]"
   ]
  },
  {
   "cell_type": "code",
   "execution_count": null,
   "metadata": {},
   "outputs": [],
   "source": [
    "# initializing the results of model training\n",
    "results=[]"
   ]
  },
  {
   "cell_type": "code",
   "execution_count": null,
   "metadata": {},
   "outputs": [],
   "source": [
    "# initializing model parameters\n",
    "n_epochs=0\n",
    "n_batch_size=0\n",
    "n_patience=0\n",
    "validation_split=0\n",
    "imageset=0\n",
    "backbone=0\n",
    "version=0\n",
    "model_h5=0\n",
    "model_h5_checkpoint=0\n",
    "earlystopper=0\n",
    "checkpointer=0\n",
    "Each_Epoch_Predict_class=0"
   ]
  },
  {
   "cell_type": "code",
   "execution_count": null,
   "metadata": {},
   "outputs": [],
   "source": [
    "# setting flags\n",
    "logFlag=True\n",
    "SavePlotFlag=True"
   ]
  }
 ],
 "metadata": {
  "kernelspec": {
   "display_name": "Python 3",
   "language": "python",
   "name": "python3"
  },
  "language_info": {
   "codemirror_mode": {
    "name": "ipython",
    "version": 3
   },
   "file_extension": ".py",
   "mimetype": "text/x-python",
   "name": "python",
   "nbconvert_exporter": "python",
   "pygments_lexer": "ipython3",
   "version": "3.7.4"
  }
 },
 "nbformat": 4,
 "nbformat_minor": 2
}
