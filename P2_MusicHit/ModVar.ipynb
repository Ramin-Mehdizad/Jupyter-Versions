{
 "cells": [
  {
   "cell_type": "code",
   "execution_count": null,
   "metadata": {},
   "outputs": [],
   "source": [
    "\n",
    "\"\"\"\n",
    "===============================================================================\n",
    " Created on Feb 15, 2020\n",
    "\n",
    " @author: Ramin Mehdizad Tekiyeh\n",
    "\n",
    " This code is written in Python 3.7.4 , Spyder 3.3.6\n",
    "===============================================================================\n",
    "\"\"\""
   ]
  },
  {
   "cell_type": "code",
   "execution_count": null,
   "metadata": {},
   "outputs": [],
   "source": [
    "#==============================================================================\n",
    "# This module holds the variables that are shared between modules\n",
    "#==============================================================================\n",
    "import numpy as np\n"
   ]
  },
  {
   "cell_type": "code",
   "execution_count": null,
   "metadata": {},
   "outputs": [],
   "source": [
    "#==============================================================================\n",
    "# initializing parameters of classifiers\n",
    "#==============================================================================\n",
    "# public parameters\n",
    "random_state=np.random.randint(low = 0, high = 100)\n",
    "tFrac=0\n",
    "cvNum=0\n",
    "figdpi=0\n",
    "Color_List=0\n",
    "resultssubpath=''\n",
    "OptVals=0\n",
    "Clf_Names=0\n",
    "\n",
    "# classifiers\n",
    "RF=0\n",
    "KNN=0\n",
    "SVM=0\n",
    "LR=0\n",
    "\n",
    "\n",
    "# Rand Forest parameters\n",
    "RF_VarPar=0\n",
    "RF_criterion=0\n",
    "\n",
    "# KNN parameters\n",
    "KNN_VarPar=0\n",
    "KNN_metric=0\n",
    "KNN_p=0\n",
    "\n",
    "# SVM\n",
    "SVM_kernel=0\n",
    "SVM_C=0\n",
    "SVM_logVarPar=0\n",
    "# here SVM_VarPar is SVM_gamma_values\n",
    "SVM_VarPar=0\n",
    "\n",
    "#Logestic regression\n",
    "LR_logVarPar=0\n",
    "LR_VarPar=0\n",
    "LR_solver=0\n",
    "LR_max_iter=0\n",
    "\n",
    "str_input=''\n",
    "args=''\n",
    "\n",
    "MainDir=''"
   ]
  },
  {
   "cell_type": "code",
   "execution_count": null,
   "metadata": {},
   "outputs": [],
   "source": [
    "#==============================================================================\n",
    "# initializing Flags\n",
    "#==============================================================================\n",
    "logFlag=False\n",
    "FlagPrintSplitData=False"
   ]
  },
  {
   "cell_type": "code",
   "execution_count": null,
   "metadata": {},
   "outputs": [],
   "source": [
    "#==============================================================================\n",
    "# initializing datasets daraframes\n",
    "#==============================================================================\n",
    "df_trn=0\n",
    "df_tst=0\n",
    "df_trn_drp=0\n",
    "y_trn=0\n",
    "X_trn_scaled=0\n",
    "\n",
    "df_tst_dropped=0\n",
    "tst_dropped=0\n",
    "tst_data_dropped_scaled=0"
   ]
  },
  {
   "cell_type": "code",
   "execution_count": null,
   "metadata": {},
   "outputs": [],
   "source": [
    "#==============================================================================\n",
    "# initializing split data\n",
    "#==============================================================================\n",
    "X_trn=0\n",
    "X_tst=0\n",
    "y_trn=0\n",
    "y_tst=0"
   ]
  },
  {
   "cell_type": "code",
   "execution_count": null,
   "metadata": {},
   "outputs": [],
   "source": [
    "#==============================================================================\n",
    "# feature importance variables\n",
    "#==============================================================================\n",
    "ExtraTrees_importance_list=0\n"
   ]
  },
  {
   "cell_type": "code",
   "execution_count": null,
   "metadata": {},
   "outputs": [],
   "source": [
    "#==============================================================================\n",
    "# run times\n",
    "#==============================================================================\n",
    "Time_List=0"
   ]
  },
  {
   "cell_type": "code",
   "execution_count": null,
   "metadata": {},
   "outputs": [],
   "source": [
    "#==============================================================================\n",
    "# initializing Dict variables\n",
    "#==============================================================================\n",
    "trnErr_A=dict()\n",
    "valErr_A=dict()\n",
    "trnErr_B=dict()\n",
    "valErr_B=dict()\n",
    "SVCTrainedModelsDict_C=dict()\n",
    "SVCTrainedModelsDict_Gamma=dict()"
   ]
  },
  {
   "cell_type": "code",
   "execution_count": null,
   "metadata": {},
   "outputs": [],
   "source": [
    "#==============================================================================\n",
    "# initializing Lists\n",
    "#==============================================================================\n",
    "trnErrArray_A=[]\n",
    "valErrArray_A=[]\n",
    "trnErrArray_B=[]\n",
    "valErrArray_B=[]\n",
    "x_data=[]\n",
    "y_data=[]\n",
    "sysinfo=[]"
   ]
  }
 ],
 "metadata": {
  "kernelspec": {
   "display_name": "Python 3",
   "language": "python",
   "name": "python3"
  },
  "language_info": {
   "codemirror_mode": {
    "name": "ipython",
    "version": 3
   },
   "file_extension": ".py",
   "mimetype": "text/x-python",
   "name": "python",
   "nbconvert_exporter": "python",
   "pygments_lexer": "ipython3",
   "version": "3.7.4"
  }
 },
 "nbformat": 4,
 "nbformat_minor": 2
}
