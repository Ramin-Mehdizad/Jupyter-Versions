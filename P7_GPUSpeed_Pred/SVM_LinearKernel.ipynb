{
 "cells": [
  {
   "cell_type": "code",
   "execution_count": null,
   "metadata": {},
   "outputs": [],
   "source": [
    "#Created on Mon Mar  9 22:09:02 2020\n",
    "#\n",
    "#@author: Ramin Mehdizad Tekiyeh"
   ]
  },
  {
   "cell_type": "code",
   "execution_count": null,
   "metadata": {},
   "outputs": [],
   "source": [
    "import numpy as np \n",
    "import pandas as pd\n",
    "import matplotlib.pyplot as plt\n",
    "from sklearn.metrics import accuracy_score\n",
    "from sklearn.metrics import confusion_matrix\n",
    "from sklearn.metrics import roc_curve, auc\n",
    "from sklearn.svm import SVC\n",
    "from sklearn import metrics\n",
    "from sklearn.model_selection import train_test_split\n",
    "from sklearn.model_selection import cross_val_score\n",
    "import math"
   ]
  },
  {
   "cell_type": "code",
   "execution_count": null,
   "metadata": {},
   "outputs": [],
   "source": [
    "# in this section we read scsvfile and import dataset\n",
    "df=pd.read_csv(\"ComputerSpeedData.csv\")\n",
    "# here we calculate average of 4 run time\n",
    "df[\"RunF\"]=(df[\"Run1 (ms)\"]+df[\"Run2 (ms)\"]+df[\"Run3 (ms)\"]+df[\"Run4 (ms)\"])/4\n",
    "# here we drop run time columns and insert the average amount into a new column\n",
    "df=df.drop(columns=['Run1 (ms)','Run2 (ms)','Run3 (ms)','Run4 (ms)'])\n",
    "df['RunF'].mean()\n",
    "df['RunF_binary']=np.where(df['RunF']>=100,1,0)\n",
    "# spliting dataset into train and test\n",
    "train,test=train_test_split(df,test_size=0.3,random_state=5000)\n",
    "# extracting values and savingthem in lists\n",
    "x_train=train.iloc[:,0:14]\n",
    "y_train=train.iloc[:,-1]\n",
    "x_test=test.iloc[:,0:14]\n",
    "y_test=test.iloc[:,-1]"
   ]
  },
  {
   "cell_type": "code",
   "execution_count": null,
   "metadata": {},
   "outputs": [],
   "source": [
    "# this function calculates accuracy scores\n",
    "def svwork (x_tr,y_tr,x_ts,y_ts,kernel,c):\n",
    "    # initializing lists\n",
    "    train_results=[]\n",
    "    test_results=[]\n",
    "    train_accuracies=[]\n",
    "    test_accuracies=[]\n",
    "    # here wee loop for different classifying models\n",
    "    for c in c:\n",
    "        # here we define model\n",
    "       svc=SVC(kernel=kernel,C=c,gamma='auto')\n",
    "       # now we train the model\n",
    "       svc.fit(x_tr,y_tr)\n",
    "       # here we do the predictions\n",
    "       train_pred=svc.predict(x_tr)\n",
    "       test_pred=svc.predict(x_ts) \n",
    "       # calculating scores\n",
    "       fpr,tpr,thresholds=roc_curve(y_tr,train_pred)\n",
    "       roc_auc=auc(fpr,tpr)\n",
    "       # Add auc score to previous train results\n",
    "       train_results.append(roc_auc)\n",
    "       # performing prediction\n",
    "       y_pred=svc.predict(x_ts)\n",
    "       fpr,tpr,thresholds=roc_curve(y_ts,y_pred)\n",
    "       roc_auc=auc(fpr,tpr)\n",
    "       # Add auc score to previous test results\n",
    "       test_results.append(roc_auc)\n",
    "       # performing train and test accuracy calculation\n",
    "       train_acc=accuracy_score(y_tr,train_pred)\n",
    "       test_acc=accuracy_score(y_ts,test_pred)\n",
    "       # saving results of accuracy in lists\n",
    "       train_accuracies.append(train_acc)\n",
    "       test_accuracies.append(test_acc)\n",
    "    return test_accuracies,train_accuracies,test_results,train_results"
   ]
  },
  {
   "cell_type": "code",
   "execution_count": null,
   "metadata": {},
   "outputs": [],
   "source": [
    "# linear kernel crossvalidationcestiob\n",
    "print(\"linear kernel crossvalidation*****\",end='\\n\\n')\n",
    "c_lr=np.array([10**-6,10**-5,10**-4,10**-3,10**-2,10**-1,10**0])\n",
    "#  initializing the list\n",
    "c_logvalues=[]"
   ]
  },
  {
   "cell_type": "code",
   "execution_count": null,
   "metadata": {},
   "outputs": [],
   "source": [
    "# calculatin c values\n",
    "for c in c_lr:\n",
    "    c_logvalues.append(math.log10(c))\n",
    "    \n",
    "#  initializing the list\n",
    "acc_score_lr=[]"
   ]
  },
  {
   "cell_type": "code",
   "execution_count": null,
   "metadata": {},
   "outputs": [],
   "source": [
    "# in this loop we calculate cross validation score and save it in a list\n",
    "for c in c_lr:\n",
    "    svc=SVC(kernel='linear',C=c,gamma='auto')\n",
    "    # calculating cross validation score\n",
    "    scores=cross_val_score(svc,x_train,y_train,cv=5,scoring='accuracy')\n",
    "    # saving cross validation score in a list\n",
    "    acc_score_lr.append(scores.mean())\n",
    "print(\"acc_score_lr is:       \",acc_score_lr)    "
   ]
  },
  {
   "cell_type": "code",
   "execution_count": null,
   "metadata": {},
   "outputs": [],
   "source": [
    "# now we plot cross validation versus c values\n",
    "p=acc_score_lr\n",
    "#gpu linear test vs train\n",
    "plt.plot(c_logvalues,p,'b',label='Cross Validation Accuracy Score')\n",
    "plt.legend(loc='best',frameon=False)\n",
    "plt.ylabel(\"Accuracy score\")\n",
    "plt.xlabel(\"log10(c) values\")\n",
    "plt.title(\"'linear kernel' SVM Cross Validated\")\n",
    "plt.show()"
   ]
  },
  {
   "cell_type": "code",
   "execution_count": null,
   "metadata": {},
   "outputs": [],
   "source": [
    "# in this section we calculate train and test accuracy\n",
    "kernel='linear'\n",
    "test_acc_lr,train_acc_lr,test_res_lr,train_res_lr=svwork(x_tr=x_train,y_tr=y_train,x_ts=x_test,y_ts=y_test,kernel=kernel,c=c_lr)\n",
    "\n",
    "# and here we plot train and test accuracy versus c values\n",
    "plt.plot(c_logvalues,train_acc_lr,'b',label='Train Accuracy for GPU  Run Time')\n",
    "plt.plot(c_logvalues,test_acc_lr,'r',label='Test Accuracy for GPU Run Time')\n",
    "plt.legend(loc='best',frameon=False)\n",
    "plt.ylabel(\"Accuracy score\")\n",
    "plt.xlabel(\"log10(c) values\")\n",
    "plt.title(\"Train and Test Accuary vs. C values\")\n",
    "plt.show()\n"
   ]
  }
 ],
 "metadata": {
  "kernelspec": {
   "display_name": "Python 3",
   "language": "python",
   "name": "python3"
  },
  "language_info": {
   "codemirror_mode": {
    "name": "ipython",
    "version": 3
   },
   "file_extension": ".py",
   "mimetype": "text/x-python",
   "name": "python",
   "nbconvert_exporter": "python",
   "pygments_lexer": "ipython3",
   "version": "3.7.4"
  }
 },
 "nbformat": 4,
 "nbformat_minor": 2
}
