{
 "cells": [
  {
   "cell_type": "code",
   "execution_count": null,
   "metadata": {},
   "outputs": [],
   "source": [
    "#Created on Mon Mar  9 22:09:02 2020\n",
    "#\n",
    "#@author: Ramin Mehdizad Tekiyeh"
   ]
  },
  {
   "cell_type": "code",
   "execution_count": null,
   "metadata": {},
   "outputs": [],
   "source": [
    "import numpy as np \n",
    "import pandas as pd\n",
    "import matplotlib.pyplot as plt\n",
    "from sklearn.metrics import accuracy_score\n",
    "from sklearn.ensemble import RandomForestClassifier\n",
    "from sklearn.model_selection import train_test_split"
   ]
  },
  {
   "cell_type": "code",
   "execution_count": null,
   "metadata": {},
   "outputs": [],
   "source": [
    "# importing dataset\n",
    "df=pd.read_csv(\"ComputerSpeedData.csv\")"
   ]
  },
  {
   "cell_type": "code",
   "execution_count": null,
   "metadata": {},
   "outputs": [],
   "source": [
    "#calculating mean GPU runtime\n",
    "df[\"RunF\"]=(df[\"Run1 (ms)\"]+df[\"Run2 (ms)\"]+df[\"Run3 (ms)\"]+df[\"Run4 (ms)\"])/4\n",
    "df=df.drop(columns=['Run1 (ms)','Run2 (ms)','Run3 (ms)','Run4 (ms)'])\n",
    "df['RunF'].mean()\n",
    "# importingmean valuein a new feature\n",
    "df['RunF_binary']=np.where(df['RunF']>=100,1,0)"
   ]
  },
  {
   "cell_type": "code",
   "execution_count": null,
   "metadata": {},
   "outputs": [],
   "source": [
    "# splitting data into train and test score\n",
    "train,test=train_test_split(df,test_size=0.3,random_state=5000)\n",
    "x_train=train.iloc[:,0:14]\n",
    "y_train=train.iloc[:,-1]\n",
    "x_test=test.iloc[:,0:14]\n",
    "y_test=test.iloc[:,-1]"
   ]
  },
  {
   "cell_type": "code",
   "execution_count": null,
   "metadata": {},
   "outputs": [],
   "source": [
    "#------------ plotting with 'gini'------------------\n",
    "\n",
    "# defining max depth numbers as an array\n",
    "max_depth_array=np.array([2,3,4,5,6,7,8,9,10,11,12,13,14])\n",
    "\n",
    "n_estimators=50\n",
    "# initializing the lists\n",
    "acc_gini=[]"
   ]
  },
  {
   "cell_type": "code",
   "execution_count": null,
   "metadata": {},
   "outputs": [],
   "source": [
    "# here we create aloop in which we create prediction Model\n",
    "# and then apply it to the dataset\n",
    "for max_depth in max_depth_array:\n",
    "    # defining classifier model\n",
    "    clf=RandomForestClassifier(n_estimators=n_estimators,max_depth=max_depth,criterion='gini',random_state=0)\n",
    "    # training model\n",
    "    clf.fit(x_train, y_train)\n",
    "    # performing prediction on test data\n",
    "    y_pred=clf.predict(x_test)\n",
    "    \n",
    "    print(\"max_depth is:    \",max_depth,end='\\n\\n')\n",
    "    print(\"clf.predict_proba(x_test) is:    \",clf.predict_proba(x_test),end='\\n\\n')\n",
    "    print(\"clf.feature_importances_ is   :\",clf.feature_importances_,end='\\n\\n')\n",
    "    # calculating accuracy of predicted data\n",
    "    accuracy=accuracy_score(y_test,y_pred)\n",
    "    acc_gini.append([accuracy])"
   ]
  },
  {
   "cell_type": "code",
   "execution_count": null,
   "metadata": {},
   "outputs": [],
   "source": [
    "# plot max depth versus accuracy\n",
    "plt.plot(max_depth_array,acc_gini,lw=2,label='gini',color='r')\n",
    "plt.ylabel(\"Accuracy\")\n",
    "plt.xlabel(\"Number of tree depth\")\n",
    "plt.title(\"Accuracy VS Tree Depth\")"
   ]
  },
  {
   "cell_type": "code",
   "execution_count": null,
   "metadata": {},
   "outputs": [],
   "source": [
    "#------------now plotting with 'entropy'------------------\n",
    "# initializing the list\n",
    "acc_entropy=[]\n",
    "\n",
    "for max_depth in max_depth_array:\n",
    "    # defining classifier model\n",
    "    clf=RandomForestClassifier(n_estimators=n_estimators,max_depth=max_depth,criterion='entropy',random_state=0)\n",
    "    # training model\n",
    "    clf.fit(x_train,y_train)\n",
    "    # performing prediction on test data\n",
    "    y_pred=clf.predict(x_test)\n",
    "    \n",
    "    print(\"max_depth is:    \",max_depth,end='\\n\\n')\n",
    "    print(\"clf.predict_proba(x_test) is:    \",clf.predict_proba(x_test),end='\\n\\n')\n",
    "    print(\"clf.feature_importances_ is   :\",clf.feature_importances_,end='\\n\\n')\n",
    "    # calculating accuracy of predicted data\n",
    "    accuracy=accuracy_score(y_test,y_pred)\n",
    "    acc_entropy.append([accuracy])"
   ]
  },
  {
   "cell_type": "code",
   "execution_count": null,
   "metadata": {},
   "outputs": [],
   "source": [
    "# plot max depth versus accuracy\n",
    "plt.plot(max_depth_array,acc_entropy,lw=2,label='entropy',color='b')\n",
    "plt.legend(loc='best',frameon=False)\n"
   ]
  }
 ],
 "metadata": {
  "kernelspec": {
   "display_name": "Python 3",
   "language": "python",
   "name": "python3"
  },
  "language_info": {
   "codemirror_mode": {
    "name": "ipython",
    "version": 3
   },
   "file_extension": ".py",
   "mimetype": "text/x-python",
   "name": "python",
   "nbconvert_exporter": "python",
   "pygments_lexer": "ipython3",
   "version": "3.7.4"
  }
 },
 "nbformat": 4,
 "nbformat_minor": 2
}
