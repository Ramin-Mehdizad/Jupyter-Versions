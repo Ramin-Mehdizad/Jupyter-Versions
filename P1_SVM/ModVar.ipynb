{
 "cells": [
  {
   "cell_type": "code",
   "execution_count": null,
   "metadata": {},
   "outputs": [],
   "source": [
    "#==============================================================================\n",
    "# Created on Feb 10, 2020\n",
    "#\n",
    "# @author: Ramin Mehdizad Tekiyeh\n",
    "\n",
    "# This code is written in Python 3.7.4 , Spyder 3.3.6\n",
    "#=============================================================================="
   ]
  },
  {
   "cell_type": "code",
   "execution_count": null,
   "metadata": {},
   "outputs": [],
   "source": [
    "#==============================================================================\n",
    "# This module holds the variables that are shared between modules\n",
    "#=============================================================================="
   ]
  },
  {
   "cell_type": "code",
   "execution_count": null,
   "metadata": {},
   "outputs": [],
   "source": [
    "#==============================================================================\n",
    "# initializing parameters of single number variables\n",
    "#==============================================================================\n",
    "nsamples=0\n",
    "n_samples=0\n",
    "m_noisy=0\n",
    "m_noisy_Frac=0\n",
    "GAMMA_PartA=0\n",
    "C_PartB=10\n",
    "C_values=0\n",
    "GAMMA_values=0\n",
    "tFrac=0\n",
    "vFrac=0\n",
    "kernel=0\n",
    "random_state_SVC=0\n",
    "cvNum=0\n",
    "\n",
    "# figure quality\n",
    "figdpi=200\n",
    "\n",
    "str1=''\n",
    "args=''"
   ]
  },
  {
   "cell_type": "code",
   "execution_count": null,
   "metadata": {},
   "outputs": [],
   "source": [
    "#==============================================================================\n",
    "# initializing Flags\n",
    "#==============================================================================\n",
    "logFlag=False\n",
    "saveplotFlag=False"
   ]
  },
  {
   "cell_type": "code",
   "execution_count": null,
   "metadata": {},
   "outputs": [],
   "source": [
    "#==============================================================================\n",
    "# initializing sharing folder path\n",
    "#==============================================================================\n",
    "resultssubpath=''\n"
   ]
  },
  {
   "cell_type": "code",
   "execution_count": null,
   "metadata": {},
   "outputs": [],
   "source": [
    "#==============================================================================\n",
    "# initializing Dict variables\n",
    "#==============================================================================\n",
    "trnErr_A=dict()\n",
    "valErr_A=dict()\n",
    "trnErr_B=dict()\n",
    "valErr_B=dict()\n",
    "SVCTrainedModelsDict_C=dict()\n",
    "SVCTrainedModelsDict_Gamma=dict()"
   ]
  },
  {
   "cell_type": "code",
   "execution_count": null,
   "metadata": {},
   "outputs": [],
   "source": [
    "#==============================================================================\n",
    "# initializing Lists\n",
    "#==============================================================================\n",
    "trnErrArray_A=[]\n",
    "valErrArray_A=[]\n",
    "trnErrArray_B=[]\n",
    "valErrArray_B=[]\n",
    "x_data=[]\n",
    "y_data=[]\n",
    "sysinfo=[]"
   ]
  }
 ],
 "metadata": {
  "kernelspec": {
   "display_name": "Python 3",
   "language": "python",
   "name": "python3"
  },
  "language_info": {
   "codemirror_mode": {
    "name": "ipython",
    "version": 3
   },
   "file_extension": ".py",
   "mimetype": "text/x-python",
   "name": "python",
   "nbconvert_exporter": "python",
   "pygments_lexer": "ipython3",
   "version": "3.7.4"
  }
 },
 "nbformat": 4,
 "nbformat_minor": 2
}
